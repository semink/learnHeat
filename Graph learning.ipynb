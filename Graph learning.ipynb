{
 "cells": [
  {
   "cell_type": "markdown",
   "metadata": {},
   "source": [
    "# Graph learning\n",
    "This notebook is about graph learning based on the paper \"Learning Heat Diffusion Graphs\" written by *Dorina Thanou, Xiaowen Dong, Daniel Kressner*, and *Pascal Frossard*"
   ]
  },
  {
   "cell_type": "markdown",
   "metadata": {},
   "source": [
    "### Prerequisites"
   ]
  },
  {
   "cell_type": "code",
   "execution_count": 1,
   "metadata": {},
   "outputs": [],
   "source": [
    "# import numpy as np\n",
    "import numpy as np\n",
    "\n",
    "# set maximum presicion of float (for nice looking)\n",
    "np.set_printoptions(precision=5)\n",
    "np.set_printoptions(suppress=True)\n",
    "\n",
    "# random seed\n",
    "np.random.seed(7)"
   ]
  },
  {
   "cell_type": "markdown",
   "metadata": {},
   "source": [
    "### A random graph"
   ]
  },
  {
   "cell_type": "code",
   "execution_count": 2,
   "metadata": {},
   "outputs": [],
   "source": [
    "import networkx as nx\n",
    "import learnHeat as lh\n",
    "\n",
    "# number of nodes\n",
    "N = 20\n",
    "\n",
    "# random graph\n",
    "rg = nx.fast_gnp_random_graph(N, p = 0.2)"
   ]
  },
  {
   "cell_type": "code",
   "execution_count": 3,
   "metadata": {},
   "outputs": [
    {
     "data": {
      "text/plain": [
       "<Figure size 640x480 with 1 Axes>"
      ]
     },
     "metadata": {},
     "output_type": "display_data"
    }
   ],
   "source": [
    "# figure\n",
    "from matplotlib import pyplot as plt\n",
    "plt.figure()\n",
    "nx.draw(rg)\n",
    "plt.show()"
   ]
  },
  {
   "cell_type": "markdown",
   "metadata": {},
   "source": [
    "### Graph signal based on the topology"
   ]
  },
  {
   "cell_type": "code",
   "execution_count": 4,
   "metadata": {},
   "outputs": [],
   "source": [
    "# tau (ground truth)\n",
    "tau_ground = [2.5, 4]\n",
    "\n",
    "# Dictionary based on the Laplacian and tau\n",
    "L_ground = nx.laplacian_matrix(rg).toarray()\n",
    "D_ground = lh.D(L_ground, tau_ground)\n",
    "\n",
    "# Number of observations\n",
    "M = 100\n",
    "\n",
    "random_atoms = []\n",
    "random_hs = []\n",
    "for m in range(M):\n",
    "    random_atoms.append(np.random.choice(D_ground.shape[1], 3, replace=False))\n",
    "    random_hs.append(np.random.randn(3))"
   ]
  },
  {
   "cell_type": "markdown",
   "metadata": {},
   "source": [
    "### Observations"
   ]
  },
  {
   "cell_type": "code",
   "execution_count": 5,
   "metadata": {},
   "outputs": [],
   "source": [
    "# standard deviation of noise\n",
    "se = 0.1\n",
    "\n",
    "# generation of observations\n",
    "xs = []\n",
    "H_ground = np.zeros((N*len(tau_ground),M))\n",
    "for m, atom in enumerate(random_atoms):\n",
    "    xs.append(np.squeeze(D_ground[:,atom]@random_hs[m]))\n",
    "    H_ground[atom,m] = random_hs[m]\n",
    "    \n",
    "# before adding noise\n",
    "X_clean = np.matrix(xs).T\n",
    "\n",
    "# noisy observations\n",
    "X = X_clean + np.sqrt(se)*np.random.randn(X_clean.shape[0],X_clean.shape[1])"
   ]
  },
  {
   "cell_type": "markdown",
   "metadata": {},
   "source": [
    "### Initialize parameters (dictionary, graph, and tau)"
   ]
  },
  {
   "cell_type": "code",
   "execution_count": 6,
   "metadata": {},
   "outputs": [],
   "source": [
    "rg = nx.fast_gnp_random_graph(N, p = 0.4)\n",
    "L0 = nx.laplacian_matrix(rg).toarray()\n",
    "L0 = L0/np.trace(L0)*N\n",
    "tau0 = [1, 2]\n",
    "H0 = np.random.rand(lh.D(L0, tau0).shape[1], X.shape[1])"
   ]
  },
  {
   "cell_type": "code",
   "execution_count": null,
   "metadata": {},
   "outputs": [
    {
     "data": {
      "application/vnd.jupyter.widget-view+json": {
       "model_id": "a5b26d8247484d8c9cf8058bbacac147",
       "version_major": 2,
       "version_minor": 0
      },
      "text/plain": [
       "HBox(children=(IntProgress(value=0, description='Learning progress', max=50, style=ProgressStyle(description_w…"
      ]
     },
     "metadata": {},
     "output_type": "display_data"
    },
    {
     "data": {
      "application/vnd.jupyter.widget-view+json": {
       "model_id": "d4346e9a04e440a7b32b77d16aec09f8",
       "version_major": 2,
       "version_minor": 0
      },
      "text/plain": [
       "HBox(children=(IntProgress(value=1, bar_style='info', max=1), HTML(value='')))"
      ]
     },
     "metadata": {},
     "output_type": "display_data"
    }
   ],
   "source": [
    "result = lh.learn_heat(X = X, \n",
    "                    L0=L0, H0 = H0, tau0=tau0, \n",
    "                    verbose=False, \n",
    "                    max_iter = 50, alpha = 0.1, beta=0.1)"
   ]
  },
  {
   "cell_type": "markdown",
   "metadata": {},
   "source": [
    "### Result of learning"
   ]
  },
  {
   "cell_type": "code",
   "execution_count": null,
   "metadata": {},
   "outputs": [],
   "source": [
    "from matplotlib import pyplot as plt\n",
    "plt.figure()\n",
    "plt.plot(result[\"learning_curve\"][\"step\"], result[\"learning_curve\"][\"cost\"])\n",
    "plt.xlabel(\"step\")\n",
    "plt.ylabel(\"cost\")\n",
    "plt.ylim([0,100])\n",
    "plt.title(\"Learning curve\")\n",
    "plt.show()"
   ]
  },
  {
   "cell_type": "code",
   "execution_count": null,
   "metadata": {},
   "outputs": [],
   "source": [
    "vmin = -0.5\n",
    "vmax = 0.5\n",
    "f, (ax1, ax2, ax3) = plt.subplots(1, 3, sharey=True)\n",
    "ax1.imshow(L_ground/np.trace(L_ground)*N, vmin = vmin, vmax = vmax)\n",
    "ax1.set_title('L_ground')\n",
    "ax2.imshow(result[\"L\"], vmin = vmin, vmax = vmax)\n",
    "ax2.set_title('L_trained')\n",
    "ax3.imshow(L0, vmin = vmin, vmax = vmax)\n",
    "ax3.set_title('L0')\n",
    "plt.show()"
   ]
  },
  {
   "cell_type": "code",
   "execution_count": null,
   "metadata": {},
   "outputs": [],
   "source": [
    "f, (ax1, ax2) = plt.subplots(1, 2, sharey=True)\n",
    "ax1.imshow(H_ground, vmin = vmin, vmax = vmax)\n",
    "ax1.set_title('H_ground')\n",
    "ax2.imshow(result[\"H\"], vmin = vmin, vmax = vmax)\n",
    "ax2.set_title('H_trained')\n",
    "plt.show()"
   ]
  }
 ],
 "metadata": {
  "kernelspec": {
   "display_name": "Python 3",
   "language": "python",
   "name": "python3"
  },
  "language_info": {
   "codemirror_mode": {
    "name": "ipython",
    "version": 3
   },
   "file_extension": ".py",
   "mimetype": "text/x-python",
   "name": "python",
   "nbconvert_exporter": "python",
   "pygments_lexer": "ipython3",
   "version": "3.7.5"
  }
 },
 "nbformat": 4,
 "nbformat_minor": 4
}
